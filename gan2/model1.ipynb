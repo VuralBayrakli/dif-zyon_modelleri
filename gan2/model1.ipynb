{
 "cells": [
  {
   "cell_type": "code",
   "execution_count": 3,
   "metadata": {
    "execution": {
     "iopub.execute_input": "2023-09-20T12:09:06.707909Z",
     "iopub.status.busy": "2023-09-20T12:09:06.707550Z",
     "iopub.status.idle": "2023-09-20T12:09:08.433852Z",
     "shell.execute_reply": "2023-09-20T12:09:08.432882Z",
     "shell.execute_reply.started": "2023-09-20T12:09:06.707879Z"
    }
   },
   "outputs": [],
   "source": [
    "from torch.utils.data import Dataset, DataLoader\n",
    "from PIL import Image\n",
    "import pandas as pd\n",
    "import os\n",
    "import torch\n",
    "from torchvision import transforms\n",
    "import matplotlib.pyplot as plt\n",
    "\n",
    "import torch\n",
    "import torch.nn as nn\n",
    "import torch.nn.functional as F\n",
    "import torch.optim as optim\n",
    "from tqdm import tqdm\n",
    "import torch.optim as optim\n",
    "import torchvision.utils as vutils"
   ]
  },
  {
   "cell_type": "code",
   "execution_count": 4,
   "metadata": {
    "execution": {
     "iopub.execute_input": "2023-09-20T12:09:08.437825Z",
     "iopub.status.busy": "2023-09-20T12:09:08.436823Z",
     "iopub.status.idle": "2023-09-20T12:09:08.443195Z",
     "shell.execute_reply": "2023-09-20T12:09:08.442293Z",
     "shell.execute_reply.started": "2023-09-20T12:09:08.437787Z"
    }
   },
   "outputs": [],
   "source": [
    "transform = transforms.Compose([\n",
    "    transforms.Resize((64, 64)),\n",
    "    transforms.ToTensor(),\n",
    "    transforms.Lambda(lambda x: x * 2.0 - 1.0) #to go between -1 and 1\n",
    "])"
   ]
  },
  {
   "cell_type": "code",
   "execution_count": 5,
   "metadata": {
    "execution": {
     "iopub.execute_input": "2023-09-20T12:09:08.445538Z",
     "iopub.status.busy": "2023-09-20T12:09:08.444465Z",
     "iopub.status.idle": "2023-09-20T12:09:08.455116Z",
     "shell.execute_reply": "2023-09-20T12:09:08.454048Z",
     "shell.execute_reply.started": "2023-09-20T12:09:08.445504Z"
    }
   },
   "outputs": [],
   "source": [
    "class AnimeDataset(Dataset):\n",
    "    def __init__(self, img_dir='/kaggle/input/animefacedataset/images', transform=None):\n",
    "        self.img_dir = img_dir\n",
    "        self.image_files = [f for f in os.listdir(img_dir) if os.path.isfile(os.path.join(img_dir, f)) and f.lower().endswith(('.png', '.jpg', '.jpeg'))]\n",
    "        self.transform = transform\n",
    "\n",
    "    def __len__(self):\n",
    "        return len(self.image_files)\n",
    "\n",
    "    def __getitem__(self, idx):\n",
    "        img_path = os.path.join(self.img_dir, self.image_files[idx])\n",
    "        \n",
    "        try:\n",
    "            image = Image.open(img_path)\n",
    "        except FileNotFoundError:\n",
    "            print(f\"File not found: {img_path}\")\n",
    "            return None\n",
    "\n",
    "        if self.transform:\n",
    "            image = self.transform(image)\n",
    "\n",
    "        return image"
   ]
  },
  {
   "cell_type": "code",
   "execution_count": 6,
   "metadata": {
    "execution": {
     "iopub.execute_input": "2023-09-20T12:09:10.157171Z",
     "iopub.status.busy": "2023-09-20T12:09:10.156777Z",
     "iopub.status.idle": "2023-09-20T12:12:24.840657Z",
     "shell.execute_reply": "2023-09-20T12:12:24.839618Z",
     "shell.execute_reply.started": "2023-09-20T12:09:10.157132Z"
    }
   },
   "outputs": [],
   "source": [
    "anime_dataset = AnimeDataset(transform=transform)\n",
    "anime_loader = DataLoader(anime_dataset, batch_size=64, shuffle=True)"
   ]
  },
  {
   "cell_type": "code",
   "execution_count": 62,
   "metadata": {
    "execution": {
     "iopub.execute_input": "2023-09-20T12:53:32.771091Z",
     "iopub.status.busy": "2023-09-20T12:53:32.770561Z",
     "iopub.status.idle": "2023-09-20T12:53:32.778359Z",
     "shell.execute_reply": "2023-09-20T12:53:32.777035Z",
     "shell.execute_reply.started": "2023-09-20T12:53:32.771049Z"
    }
   },
   "outputs": [],
   "source": [
    "from torch.utils.data import Subset\n",
    "new_dataset = Subset(anime_dataset, indices=range(64))  # İlk 64 öğeyi al"
   ]
  },
  {
   "cell_type": "code",
   "execution_count": 67,
   "metadata": {
    "execution": {
     "iopub.execute_input": "2023-09-20T12:54:40.748647Z",
     "iopub.status.busy": "2023-09-20T12:54:40.748271Z",
     "iopub.status.idle": "2023-09-20T12:54:40.755545Z",
     "shell.execute_reply": "2023-09-20T12:54:40.754542Z",
     "shell.execute_reply.started": "2023-09-20T12:54:40.748614Z"
    }
   },
   "outputs": [],
   "source": [
    "new_dataloader = (DataLoader(new_dataset, batch_size=4, shuffle=True))"
   ]
  },
  {
   "cell_type": "code",
   "execution_count": 68,
   "metadata": {
    "execution": {
     "iopub.execute_input": "2023-09-20T12:55:06.337254Z",
     "iopub.status.busy": "2023-09-20T12:55:06.336860Z",
     "iopub.status.idle": "2023-09-20T12:55:06.350786Z",
     "shell.execute_reply": "2023-09-20T12:55:06.349877Z",
     "shell.execute_reply.started": "2023-09-20T12:55:06.337222Z"
    }
   },
   "outputs": [],
   "source": [
    "images = next(iter(new_dataloader))"
   ]
  },
  {
   "cell_type": "code",
   "execution_count": 124,
   "metadata": {
    "execution": {
     "iopub.execute_input": "2023-09-20T12:56:05.324524Z",
     "iopub.status.busy": "2023-09-20T12:56:05.324140Z",
     "iopub.status.idle": "2023-09-20T12:56:05.407717Z",
     "shell.execute_reply": "2023-09-20T12:56:05.406732Z",
     "shell.execute_reply.started": "2023-09-20T12:56:05.324492Z"
    }
   },
   "outputs": [
    {
     "data": {
      "image/png": "[encoded data removed]",
      "text/plain": [
       "<Figure size 640x480 with 1 Axes>"
      ]
     },
     "metadata": {},
     "output_type": "display_data"
    }
   ],
   "source": [
    "plt.imshow((next(iter(new_dataloader))[0].permute(2, 1, 0)))\n",
    "plt.axis(False)\n",
    "plt.show()"
   ]
  },
  {
   "cell_type": "code",
   "execution_count": 125,
   "metadata": {
    "execution": {
     "iopub.execute_input": "2023-09-20T12:56:17.348083Z",
     "iopub.status.busy": "2023-09-20T12:56:17.347704Z",
     "iopub.status.idle": "2023-09-20T12:56:17.358992Z",
     "shell.execute_reply": "2023-09-20T12:56:17.357598Z",
     "shell.execute_reply.started": "2023-09-20T12:56:17.348050Z"
    }
   },
   "outputs": [],
   "source": [
    "class MiniBatchDiscrimination(nn.Module):\n",
    "    def __init__(self, input_features, output_features, kernel_dims, mean=False, scaling_factor=0.5):\n",
    "        super(MiniBatchDiscrimination, self).__init__()\n",
    "        self.input_features = input_features\n",
    "        self.output_features = output_features\n",
    "        self.kernel_dims = kernel_dims\n",
    "        self.mean = mean\n",
    "        self.scaling_factor = scaling_factor\n",
    "\n",
    "        self.T = nn.Parameter(torch.Tensor(input_features, output_features, kernel_dims))\n",
    "        nn.init.normal_(self.T, 0, 1)\n",
    "\n",
    "    def forward(self, x):\n",
    "        M = x.mm(self.T.view(self.input_features, -1))\n",
    "        M = M.view(-1, self.output_features, self.kernel_dims).unsqueeze(0)\n",
    "        M_T = M.permute(1, 0, 2, 3)\n",
    "        norm = torch.abs(M - M_T).sum(3)\n",
    "        expnorm = torch.exp(-norm)\n",
    "        o_b = (expnorm.sum(0) - 1)\n",
    "        if self.mean:\n",
    "            o_b /= x.size(0) - 1\n",
    "\n",
    "        # scale the o_b\n",
    "        o_b = self.scaling_factor * o_b\n",
    "        return torch.cat([x, o_b], 1)"
   ]
  },
  {
   "cell_type": "code",
   "execution_count": 126,
   "metadata": {
    "execution": {
     "iopub.execute_input": "2023-09-20T12:56:19.635991Z",
     "iopub.status.busy": "2023-09-20T12:56:19.635619Z",
     "iopub.status.idle": "2023-09-20T12:56:19.664362Z",
     "shell.execute_reply": "2023-09-20T12:56:19.662966Z",
     "shell.execute_reply.started": "2023-09-20T12:56:19.635961Z"
    }
   },
   "outputs": [],
   "source": [
    "# Constants\n",
    "IMAGE_SIZE = 64  # Replace with your desired image size\n",
    "CHANNELS = 3     # RGB channels\n",
    "Z_DIM = 100      # Latent vector size\n",
    "NOISE_PARAM = 0.1\n",
    "\n",
    "# Discriminator\n",
    "class Discriminator(nn.Module):\n",
    "    def __init__(self):\n",
    "        super(Discriminator, self).__init__()\n",
    "        \n",
    "        self.conv_layers = nn.Sequential(\n",
    "            nn.Conv2d(CHANNELS, 64, 4, 2, 1, bias=False),\n",
    "            nn.LeakyReLU(0.2, inplace=True),\n",
    "            nn.Dropout(0.3),\n",
    "            \n",
    "            nn.Conv2d(64, 128, 4, 2, 1, bias=False),\n",
    "            nn.BatchNorm2d(128),\n",
    "            nn.LeakyReLU(0.2, inplace=True),\n",
    "            nn.Dropout(0.3),\n",
    "\n",
    "            nn.Conv2d(128, 256, 4, 2, 1, bias=False),\n",
    "            nn.BatchNorm2d(256),\n",
    "            nn.LeakyReLU(0.2, inplace=True),\n",
    "            nn.Dropout(0.3),\n",
    "\n",
    "            nn.Conv2d(256, 512, 4, 2, 1, bias=False),\n",
    "            nn.BatchNorm2d(512),\n",
    "            nn.LeakyReLU(0.2, inplace=True),\n",
    "            nn.Dropout(0.3),\n",
    "        )\n",
    "\n",
    "        self.mbd_layer = MiniBatchDiscrimination(512 * 4 * 4, 128, 8)\n",
    "\n",
    "        self.fc_layers = nn.Sequential(\n",
    "            nn.Linear(512 * 4 * 4 + 128, 1024),\n",
    "            nn.LeakyReLU(0.2, inplace=True),\n",
    "            nn.Linear(1024, 1),\n",
    "            nn.Sigmoid()\n",
    "        )\n",
    "\n",
    "    def forward(self, x):\n",
    "        x = self.conv_layers(x)\n",
    "        x = x.view(x.size(0), -1)\n",
    "        x = self.mbd_layer(x)\n",
    "        return self.fc_layers(x)\n",
    "\n",
    "\n",
    "# Generator\n",
    "class Generator(nn.Module):\n",
    "    def __init__(self):\n",
    "        super(Generator, self).__init__()\n",
    "        \n",
    "        self.main = nn.Sequential(\n",
    "            nn.ConvTranspose2d(Z_DIM, 512, 4, 1, 0, bias=False),\n",
    "            nn.BatchNorm2d(512),\n",
    "            nn.LeakyReLU(0.2, inplace=True),\n",
    "            \n",
    "            nn.ConvTranspose2d(512, 256, 4, 2, 1, bias=False),\n",
    "            nn.BatchNorm2d(256),\n",
    "            nn.LeakyReLU(0.2, inplace=True),\n",
    "\n",
    "            nn.ConvTranspose2d(256, 128, 4, 2, 1, bias=False),\n",
    "            nn.BatchNorm2d(128),\n",
    "            nn.LeakyReLU(0.2, inplace=True),\n",
    "\n",
    "            nn.ConvTranspose2d(128, 64, 4, 2, 1, bias=False),\n",
    "            nn.BatchNorm2d(64),\n",
    "            nn.LeakyReLU(0.2, inplace=True),\n",
    "\n",
    "            nn.ConvTranspose2d(64, CHANNELS, 4, 2, 1, bias=False),\n",
    "            nn.Tanh()\n",
    "        )\n",
    "\n",
    "    def forward(self, x):\n",
    "        return self.main(x)\n",
    "\n",
    "\n",
    "# Training function\n",
    "def train_GAN(dataloader, discriminator, generator, num_epochs=5):\n",
    "    criterion = nn.BCELoss()\n",
    "    d_optimizer = optim.Adam(discriminator.parameters(), lr=0.0002)\n",
    "    g_optimizer = optim.Adam(generator.parameters(), lr=0.0002)\n",
    "\n",
    "    device = torch.device(\"cuda\")\n",
    "    discriminator = discriminator.to(device)\n",
    "    generator = generator.to(device)\n",
    "\n",
    "    for epoch in range(num_epochs):\n",
    "        # Initialize running loss for discriminator and generator at the start of the epoch\n",
    "        running_d_loss = 0.0\n",
    "        running_g_loss = 0.0\n",
    "        \n",
    "        # Wrap dataloader with tqdm for progress bar\n",
    "        pbar = tqdm(dataloader, desc=f\"Epoch {epoch + 1}/{num_epochs}\")\n",
    "        \n",
    "        for real_images in pbar:\n",
    "            real_images = real_images.to(device)\n",
    "            \n",
    "            batch_size = real_images.size(0)\n",
    "            \n",
    "            real_labels = torch.full((batch_size, 1), 1.0, device=device)\n",
    "            fake_labels = torch.full((batch_size, 1), 0.0, device=device)\n",
    "\n",
    "            # Train discriminator\n",
    "            discriminator.zero_grad()\n",
    "            outputs = discriminator(real_images)\n",
    "            d_loss_real = criterion(outputs, real_labels)\n",
    "            d_loss_real.backward()\n",
    "\n",
    "            noise = torch.randn(batch_size, Z_DIM, 1, 1, device=device)\n",
    "            fake_images = generator(noise)\n",
    "            outputs = discriminator(fake_images.detach())\n",
    "            d_loss_fake = criterion(outputs, fake_labels)\n",
    "            d_loss_fake.backward()\n",
    "            d_optimizer.step()\n",
    "\n",
    "            # Sum the discriminator losses\n",
    "            running_d_loss += d_loss_real.item() + d_loss_fake.item()\n",
    "\n",
    "            # Train generator\n",
    "            generator.zero_grad()\n",
    "            outputs = discriminator(fake_images)\n",
    "            g_loss = criterion(outputs, real_labels)\n",
    "            g_loss.backward()\n",
    "            g_optimizer.step()\n",
    "\n",
    "            # Add to the generator running loss\n",
    "            running_g_loss += g_loss.item()\n",
    "\n",
    "            # Update progress bar with the current losses\n",
    "            pbar.set_postfix(D_loss=f\"{d_loss_real + d_loss_fake:.4f}\", G_loss=f\"{g_loss:.4f}\")\n",
    "\n",
    "        # Calculate average losses for the epoch\n",
    "        avg_d_loss = running_d_loss / len(dataloader)\n",
    "        avg_g_loss = running_g_loss / len(dataloader)\n",
    "        \n",
    "        # Print the average losses\n",
    "        print(f\"Epoch {epoch + 1} - Avg D Loss: {avg_d_loss:.4f}, Avg G Loss: {avg_g_loss:.4f}\")\n",
    "\n",
    "        with torch.no_grad():\n",
    "            # Generate 10 images\n",
    "            noise = torch.randn(25, Z_DIM, 1, 1, device=device)\n",
    "            fake_images = generator(noise)\n",
    "\n",
    "            # Make a grid\n",
    "            grid_images = vutils.make_grid(fake_images, nrow=5, normalize=True)\n",
    "\n",
    "            # Convert the grid_images tensor to a numpy array and then transpose from (C, H, W) to (H, W, C)\n",
    "            grid_images_np = grid_images.cpu().numpy().transpose(1, 2, 0)\n",
    "\n",
    "            # Display the grid using matplotlib\n",
    "            plt.imshow(grid_images_np)\n",
    "            plt.axis('off')\n",
    "            plt.title(f\"Generated Images at Epoch {epoch + 1}\")\n",
    "            plt.show()"
   ]
  },
  {
   "cell_type": "code",
   "execution_count": null,
   "metadata": {},
   "outputs": [],
   "source": []
  }
 ],
 "metadata": {
  "kernelspec": {
   "display_name": "Python 3 (ipykernel)",
   "language": "python",
   "name": "python3"
  },
  "language_info": {
   "codemirror_mode": {
    "name": "ipython",
    "version": 3
   },
   "file_extension": ".py",
   "mimetype": "text/x-python",
   "name": "python",
   "nbconvert_exporter": "python",
   "pygments_lexer": "ipython3",
   "version": "3.10.9"
  }
 },
 "nbformat": 4,
 "nbformat_minor": 4
}
