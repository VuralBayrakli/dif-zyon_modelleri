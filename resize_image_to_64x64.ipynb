{
 "cells": [
  {
   "cell_type": "code",
   "execution_count": 7,
   "id": "c800c202",
   "metadata": {},
   "outputs": [],
   "source": [
    "from PIL import Image\n",
    "import os\n",
    "\n",
    "\n",
    "# Görüntünün dosya yolunu belirtin\n",
    "images = os.listdir(\"data\")\n",
    "for img in images:\n",
    "    # Görüntüyü açın\n",
    "    image = Image.open(\"data\\\\\"+img)\n",
    "    name = img.split(\".\")[0]\n",
    "    # Görüntüyü 64x64 boyutuna yeniden boyutlandırın\n",
    "    new_size = (64, 64)\n",
    "    resized_image = image.resize(new_size)\n",
    "\n",
    "    # Yeniden boyutlandırılmış görüntüyü kaydedin\n",
    "    resized_image.save(\"new\\\\\"+name+\".jpg\")\n",
    "\n",
    "    \n"
   ]
  },
  {
   "cell_type": "code",
   "execution_count": null,
   "id": "d584b7df",
   "metadata": {},
   "outputs": [],
   "source": []
  }
 ],
 "metadata": {
  "kernelspec": {
   "display_name": "Python 3 (ipykernel)",
   "language": "python",
   "name": "python3"
  },
  "language_info": {
   "codemirror_mode": {
    "name": "ipython",
    "version": 3
   },
   "file_extension": ".py",
   "mimetype": "text/x-python",
   "name": "python",
   "nbconvert_exporter": "python",
   "pygments_lexer": "ipython3",
   "version": "3.10.9"
  }
 },
 "nbformat": 4,
 "nbformat_minor": 5
}
